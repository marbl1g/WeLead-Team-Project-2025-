{
 "cells": [
  {
   "cell_type": "markdown",
   "metadata": {},
   "source": [
    "### Import libraries"
   ]
  },
  {
   "cell_type": "code",
   "execution_count": null,
   "metadata": {},
   "outputs": [],
   "source": [
    "import pandas as pd\n",
    "import yaml\n",
    "import matplotlib.pyplot as plt\n",
    "from sklearn.preprocessing import  MinMaxScaler, StandardScaler\n",
    "import seaborn as sns\n",
    "from scipy.stats import norm\n",
    "from sklearn.model_selection import train_test_split\n",
    "from sklearn.neighbors import KNeighborsClassifier\n",
    "from sklearn.ensemble import RandomForestClassifier, GradientBoostingClassifier\n",
    "from sklearn.ensemble import StackingClassifier\n",
    "from sklearn.pipeline import Pipeline\n",
    "from sklearn.metrics import classification_report, accuracy_score\n",
    "from sklearn.metrics import accuracy_score, precision_score, recall_score\n",
    "from sklearn.metrics import f1_score, confusion_matrix\n",
    "from sklearn.ensemble import StackingClassifier\n"
   ]
  },
  {
   "cell_type": "markdown",
   "metadata": {},
   "source": [
    "### Input & Output creation"
   ]
  },
  {
   "cell_type": "code",
   "execution_count": 82,
   "metadata": {},
   "outputs": [],
   "source": [
    "# read file and create output file\n",
    "input = 'C:/welead/project/project_root/data/curated_dataset.csv'\n",
    "\n",
    "df = pd.read_csv(input)"
   ]
  },
  {
   "cell_type": "code",
   "execution_count": 83,
   "metadata": {},
   "outputs": [],
   "source": [
    "# Separate features and target\n",
    "X = df.drop(columns=['mpg', 'mpg_classes'])  # 'mpg_classes' is the column to predict\n",
    "y = df['mpg_classes']"
   ]
  },
  {
   "cell_type": "code",
   "execution_count": 84,
   "metadata": {},
   "outputs": [],
   "source": [
    "#first split the features from the target and then scale\n",
    "# Scaling the data\n",
    "scaler = MinMaxScaler()\n",
    "scaled_data = scaler.fit_transform(X)\n",
    "X_scaled = pd.DataFrame(scaled_data, columns=X.columns)\n",
    "\n",
    "# Reversing the scaling if needed\n",
    "# reversed_data = scaler.inverse_transform(scaled_data)"
   ]
  },
  {
   "cell_type": "code",
   "execution_count": 85,
   "metadata": {},
   "outputs": [],
   "source": [
    "# Split into train and test sets\n",
    "X_train, X_test, y_train, y_test = train_test_split(X_scaled, y, test_size=0.2, random_state=42)"
   ]
  },
  {
   "cell_type": "code",
   "execution_count": 97,
   "metadata": {},
   "outputs": [],
   "source": [
    "def evaluate_model(y_true, y_pred, model_name):\n",
    "    print(f\"\\n{model_name}:\")\n",
    "    print(\"Accuracy:\", accuracy_score(y_true, y_pred))\n",
    "    print(\"Precision (macro):\", precision_score(y_true, y_pred, average='macro'))\n",
    "    print(\"Recall (macro):\", recall_score(y_true, y_pred, average='macro'))\n",
    "    print(\"F1-Score (macro):\", f1_score(y_true, y_pred, average='macro'))\n",
    "    print(\"\\nClassification Report:\\n\", classification_report(y_true, y_pred))\n",
    "\n",
    "    # Plot confusion matrix\n",
    "    cm = confusion_matrix(y_true, y_pred)\n",
    "    plt.figure(figsize=(6, 4))\n",
    "    sns.heatmap(cm, annot=True, fmt=\"d\", cmap=\"viridis\",\n",
    "                xticklabels=['Low', 'Med-Low', 'Med-High', 'High'],\n",
    "                yticklabels=['Low', 'Med-Low', 'Med-High', 'High'])\n",
    "    plt.xlabel('Predicted')\n",
    "    plt.ylabel('Actual')\n",
    "    plt.title(f'Confusion Matrix - {model_name}')\n",
    "    plt.show()"
   ]
  },
  {
   "cell_type": "code",
   "execution_count": 87,
   "metadata": {},
   "outputs": [],
   "source": [
    "def load_config(config_path='C:/welead/project/project_root/config.yaml'):\n",
    "    with open(config_path, \"r\") as file:\n",
    "        config = yaml.safe_load(file)\n",
    "    return config\n",
    "\n",
    "best_params = load_config()\n"
   ]
  },
  {
   "cell_type": "markdown",
   "metadata": {},
   "source": [
    "### Ensemble models"
   ]
  },
  {
   "cell_type": "code",
   "execution_count": 90,
   "metadata": {},
   "outputs": [
    {
     "name": "stdout",
     "output_type": "stream",
     "text": [
      "['cylinders', 'displayments', 'horsepower', 'weight', 'acceleration', 'model year', 'origin_1', 'origin_2', 'origin_3']\n"
     ]
    }
   ],
   "source": [
    "print(best_params[\"feature_selection\"])"
   ]
  },
  {
   "cell_type": "code",
   "execution_count": 95,
   "metadata": {},
   "outputs": [
    {
     "name": "stdout",
     "output_type": "stream",
     "text": [
      "\n",
      "Stacking Ensemble Model:\n",
      "Accuracy: 0.9146341463414634\n",
      "Precision (macro): 0.9252941176470588\n",
      "Recall (macro): 0.9105882352941176\n",
      "F1-Score (macro): 0.9128134384384384\n",
      "\n",
      "Classification Report:\n",
      "               precision    recall  f1-score   support\n",
      "\n",
      "           0       0.96      0.96      0.96        25\n",
      "           1       0.94      0.80      0.86        20\n",
      "           2       0.80      1.00      0.89        20\n",
      "           3       1.00      0.88      0.94        17\n",
      "\n",
      "    accuracy                           0.91        82\n",
      "   macro avg       0.93      0.91      0.91        82\n",
      "weighted avg       0.92      0.91      0.91        82\n",
      "\n"
     ]
    },
    {
     "data": {
      "image/png": "[encoded data removed]",
      "text/plain": [
       "<Figure size 600x400 with 2 Axes>"
      ]
     },
     "metadata": {},
     "output_type": "display_data"
    }
   ],
   "source": [
    "# Best performing models from each category\n",
    "best_models = [\n",
    "    ('random_forest', RandomForestClassifier(**best_params[\"random_forest_classifier\"])),\n",
    "    ('gradient_boosting', GradientBoostingClassifier(**best_params[\"gradient_boosting_classifier\"])),\n",
    "    ('knn',KNeighborsClassifier(**best_params[\"k_neighbors_classifier\"]))\n",
    "]\n",
    "\n",
    "# Define the stacking ensemble model\n",
    "stacking_model_top_3 = StackingClassifier(\n",
    "    estimators=best_models,\n",
    "    final_estimator=RandomForestClassifier(n_estimators=200, max_depth=5, random_state=42)\n",
    ")\n",
    "\n",
    "# Create a pipeline with StandardScaler and the stacking model\n",
    "pipeline_stacking_top_3 = Pipeline([\n",
    "    (\"scaler\", StandardScaler()),\n",
    "    (\"stacking\", stacking_model_top_3)\n",
    "])\n",
    "\n",
    "# Train the stacking model\n",
    "pipeline_stacking_top_3.fit(X_train, y_train)\n",
    "\n",
    "# Evaluate the stacking model\n",
    "stacking_pred_top_3 = pipeline_stacking_top_3.predict(X_test)\n",
    "evaluate_model(y_test, stacking_pred_top_3, \"Stacking Ensemble Model\")"
   ]
  }
 ],
 "metadata": {
  "kernelspec": {
   "display_name": "Python 3",
   "language": "python",
   "name": "python3"
  },
  "language_info": {
   "codemirror_mode": {
    "name": "ipython",
    "version": 3
   },
   "file_extension": ".py",
   "mimetype": "text/x-python",
   "name": "python",
   "nbconvert_exporter": "python",
   "pygments_lexer": "ipython3",
   "version": "3.13.2"
  }
 },
 "nbformat": 4,
 "nbformat_minor": 2
}
