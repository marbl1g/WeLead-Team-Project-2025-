{
 "cells": [
  {
   "cell_type": "markdown",
   "metadata": {},
   "source": [
    "### Import libraries"
   ]
  },
  {
   "cell_type": "code",
   "execution_count": 1,
   "metadata": {},
   "outputs": [],
   "source": [
    "import os\n",
    "import sys\n",
    "import pandas as pd\n",
    "import numpy as np\n",
    "import matplotlib.pyplot as plt\n",
    "import matplotlib.cm as cm\n",
    "import matplotlib.patches as mpatches\n",
    "from sklearn.preprocessing import OneHotEncoder\n",
    "import seaborn as sns\n",
    "import scipy.stats as stats\n",
    "from scipy.stats import norm\n",
    "from sklearn.model_selection import cross_val_score\n",
    "from sklearn.linear_model import LinearRegression\n",
    "from sklearn.metrics import mean_squared_error\n"
   ]
  },
  {
   "cell_type": "markdown",
   "metadata": {},
   "source": [
    "### Input & Output creation"
   ]
  },
  {
   "cell_type": "code",
   "execution_count": null,
   "metadata": {},
   "outputs": [],
   "source": [
    "# read file and create ouput file\n",
    "input = 'C:/welead/project/project_root/data/mpg_data.xlsx'\n",
    "output = 'C:/welead/project/project_root/'\n",
    "if not os.path.exists(output):\n",
    "    os.makedirs(output)\n",
    "    \n",
    "    sys.exit()\n",
    "df = pd.read_excel(input)\n",
    "\n"
   ]
  },
  {
   "cell_type": "code",
   "execution_count": 3,
   "metadata": {},
   "outputs": [
    {
     "name": "stdout",
     "output_type": "stream",
     "text": [
      "<class 'pandas.core.frame.DataFrame'>\n",
      "RangeIndex: 406 entries, 0 to 405\n",
      "Data columns (total 8 columns):\n",
      " #   Column        Non-Null Count  Dtype  \n",
      "---  ------        --------------  -----  \n",
      " 0   mpg           398 non-null    float64\n",
      " 1   cylinders     406 non-null    int64  \n",
      " 2   displayments  406 non-null    float64\n",
      " 3   horsepower    400 non-null    float64\n",
      " 4   weight        406 non-null    int64  \n",
      " 5   acceleration  406 non-null    float64\n",
      " 6   model year    406 non-null    int64  \n",
      " 7   origin        406 non-null    int64  \n",
      "dtypes: float64(4), int64(4)\n",
      "memory usage: 25.5 KB\n",
      "None\n",
      "              mpg   cylinders  displayments  horsepower       weight  \\\n",
      "count  398.000000  406.000000    406.000000  400.000000   406.000000   \n",
      "mean    23.514573    5.475369    194.779557  105.082500  2979.413793   \n",
      "std      7.815984    1.712160    104.922458   38.768779   847.004328   \n",
      "min      9.000000    3.000000     68.000000   46.000000  1613.000000   \n",
      "25%     17.500000    4.000000    105.000000   75.750000  2226.500000   \n",
      "50%     23.000000    4.000000    151.000000   95.000000  2822.500000   \n",
      "75%     29.000000    8.000000    302.000000  130.000000  3618.250000   \n",
      "max     46.600000    8.000000    455.000000  230.000000  5140.000000   \n",
      "\n",
      "       acceleration  model year      origin  \n",
      "count    406.000000  406.000000  406.000000  \n",
      "mean      15.519704   75.921182    1.568966  \n",
      "std        2.803359    3.748737    0.797479  \n",
      "min        8.000000   70.000000    1.000000  \n",
      "25%       13.700000   73.000000    1.000000  \n",
      "50%       15.500000   76.000000    1.000000  \n",
      "75%       17.175000   79.000000    2.000000  \n",
      "max       24.800000   82.000000    3.000000  \n"
     ]
    }
   ],
   "source": [
    "# car name (last column) is ommitted, it does not add any value since all values are distinct\n",
    "df = df.iloc[:, 0:8]\n",
    "print(df.info())\n",
    "print(df.describe())\n",
    "df = df.drop_duplicates()"
   ]
  },
  {
   "cell_type": "markdown",
   "metadata": {},
   "source": [
    "### Fill NaN values With linear regression"
   ]
  },
  {
   "cell_type": "code",
   "execution_count": 4,
   "metadata": {},
   "outputs": [
    {
     "name": "stdout",
     "output_type": "stream",
     "text": [
      "Correlation matrix:\n",
      "                    mpg  cylinders  displayments  horsepower    weight  \\\n",
      "mpg           1.000000  -0.775396     -0.804203   -0.778427 -0.831741   \n",
      "cylinders    -0.775396   1.000000      0.951787    0.844158  0.895220   \n",
      "displayments -0.804203   0.951787      1.000000    0.898326  0.932475   \n",
      "horsepower   -0.778427   0.844158      0.898326    1.000000  0.866586   \n",
      "weight       -0.831741   0.895220      0.932475    0.866586  1.000000   \n",
      "acceleration  0.420289  -0.522452     -0.557984   -0.697124 -0.430086   \n",
      "model year    0.579267  -0.360762     -0.381714   -0.424419 -0.315389   \n",
      "origin        0.563450  -0.567478     -0.613056   -0.460033 -0.584109   \n",
      "\n",
      "              acceleration  model year    origin  \n",
      "mpg               0.420289    0.579267  0.563450  \n",
      "cylinders        -0.522452   -0.360762 -0.567478  \n",
      "displayments     -0.557984   -0.381714 -0.613056  \n",
      "horsepower       -0.697124   -0.424419 -0.460033  \n",
      "weight           -0.430086   -0.315389 -0.584109  \n",
      "acceleration      1.000000    0.301992  0.218845  \n",
      "model year        0.301992    1.000000  0.187656  \n",
      "origin            0.218845    0.187656  1.000000  \n"
     ]
    }
   ],
   "source": [
    "# correlation matrix for all columns\n",
    "# correlation is not affected by scaling, so we can use the original data\n",
    "correlation_all = df.corr()\n",
    "print(\"Correlation matrix:\\n\", correlation_all)"
   ]
  },
  {
   "cell_type": "code",
   "execution_count": 5,
   "metadata": {},
   "outputs": [
    {
     "name": "stdout",
     "output_type": "stream",
     "text": [
      "Highly correlated features with mpg: ['cylinders', 'displayments', 'horsepower', 'weight', 'model year', 'origin']\n"
     ]
    }
   ],
   "source": [
    "# avoid self correlation\n",
    "np.fill_diagonal(correlation_all.values, np.nan)\n",
    "\n",
    "# Select features with high correlation to mpg (e.g., >0.5 or <-0.5)\n",
    "high_corr_feat_mpg = correlation_all.index[abs(correlation_all['mpg']) > 0.5].tolist()\n",
    "print(\"Highly correlated features with mpg:\", high_corr_feat_mpg)"
   ]
  },
  {
   "cell_type": "code",
   "execution_count": 6,
   "metadata": {},
   "outputs": [
    {
     "name": "stdout",
     "output_type": "stream",
     "text": [
      "Highly correlated features with horsepower: ['mpg', 'cylinders', 'displayments', 'weight', 'acceleration']\n"
     ]
    }
   ],
   "source": [
    "# Select features with high correlation to horsepower (e.g., >0.5 or <-0.5)\n",
    "high_corr_feat_hp = correlation_all.index[abs(correlation_all['horsepower']) > 0.5].tolist()\n",
    "print(\"Highly correlated features with horsepower:\", high_corr_feat_hp)"
   ]
  },
  {
   "cell_type": "markdown",
   "metadata": {},
   "source": [
    "##### One-hot encoding for the 'origin' column"
   ]
  },
  {
   "cell_type": "code",
   "execution_count": 7,
   "metadata": {},
   "outputs": [
    {
     "name": "stdout",
     "output_type": "stream",
     "text": [
      "\n",
      "Data Preview after one-hot encoding:\n",
      "    mpg  cylinders  displayments  horsepower  weight  acceleration  \\\n",
      "0  18.0          8         307.0       130.0    3504          12.0   \n",
      "1  15.0          8         350.0       165.0    3693          11.5   \n",
      "2  18.0          8         318.0       150.0    3436          11.0   \n",
      "3  16.0          8         304.0       150.0    3433          12.0   \n",
      "4  17.0          8         302.0       140.0    3449          10.5   \n",
      "\n",
      "   model year  origin_1  origin_2  origin_3  \n",
      "0          70       1.0       0.0       0.0  \n",
      "1          70       1.0       0.0       0.0  \n",
      "2          70       1.0       0.0       0.0  \n",
      "3          70       1.0       0.0       0.0  \n",
      "4          70       1.0       0.0       0.0  \n"
     ]
    }
   ],
   "source": [
    "#One-hot encoding for the 'origin' column\n",
    "enc = OneHotEncoder()\n",
    "origin_enc = enc.fit_transform(df[['origin']]).toarray()\n",
    "origin_enc = pd.DataFrame(origin_enc, columns=['origin_1', 'origin_2', 'origin_3'])\n",
    "df = pd.concat([df, origin_enc], axis=1)\n",
    "df.drop('origin', axis=1, inplace=True)\n",
    "print(\"\\nData Preview after one-hot encoding:\")\n",
    "print(df.head())"
   ]
  },
  {
   "cell_type": "markdown",
   "metadata": {},
   "source": [
    "#MINI MODELING 1 (filling NaNs for horsepower)"
   ]
  },
  {
   "cell_type": "code",
   "execution_count": 8,
   "metadata": {},
   "outputs": [
    {
     "name": "stdout",
     "output_type": "stream",
     "text": [
      "Missing values after imputation (horsepower):\n",
      " 0\n"
     ]
    }
   ],
   "source": [
    "# dropna rows to train the model\n",
    "training_hp = df.dropna(subset=['horsepower'])\n",
    "\n",
    "# dependent and independent variables - ommit mpg column because it contains NaNs\n",
    "X_train_hp = training_hp[['cylinders', 'displayments', 'weight', 'acceleration']]  \n",
    "y_train_hp = training_hp['horsepower']  \n",
    "\n",
    "# lrm 1\n",
    "modeling1 = LinearRegression()\n",
    "modeling1.fit(X_train_hp, y_train_hp)\n",
    "\n",
    "# let's predict\n",
    "\n",
    "#find the nan values\n",
    "nullvalues_hp = df[df['horsepower'].isnull()]\n",
    "\n",
    "#prediction based on mpg, cylinders, displayments, weight, acceleration\n",
    "X_test_hp = nullvalues_hp[['cylinders', 'displayments', 'weight', 'acceleration']] \n",
    "\n",
    "# predict missing values\n",
    "df.loc[df['horsepower'].isnull(), 'horsepower'] = modeling1.predict(X_test_hp)\n",
    "\n",
    "# check\n",
    "print(\"Missing values after imputation (horsepower):\\n\", df['horsepower'].isnull().sum())"
   ]
  },
  {
   "cell_type": "code",
   "execution_count": 9,
   "metadata": {},
   "outputs": [
    {
     "name": "stdout",
     "output_type": "stream",
     "text": [
      "Cross-Validation Results:\n",
      "RMSE (Fold-wise): [20.31464256 13.35611581 11.18587782 10.0009747  10.10318841]\n",
      "Mean RMSE: 12.99\n",
      "\n",
      "Min horsepower:  46.0\n",
      "Max horsepower:  230.0\n",
      "\n",
      "Percentage of RMSE: 7.06%\n",
      "\n",
      "R2 score for horsepower: 0.89\n"
     ]
    }
   ],
   "source": [
    "#checking the performance \n",
    "cv_scores = cross_val_score(modeling1, X_train_hp, y_train_hp, scoring='neg_mean_squared_error', cv=5)\n",
    "cv_rmse = np.sqrt(-cv_scores)\n",
    "\n",
    "print(\"Cross-Validation Results:\")\n",
    "print(f\"RMSE (Fold-wise): {cv_rmse}\")\n",
    "print(f\"Mean RMSE: {cv_rmse.mean():.2f}\\n\")\n",
    "print('Min horsepower: ', df['horsepower'].min())\n",
    "print('Max horsepower: ', df['horsepower'].max())\n",
    "print(f\"\\nPercentage of RMSE: {cv_rmse.mean()/(df['horsepower'].max()-df['horsepower'].min())*100:.2f}%\")\n",
    "#r2 score\n",
    "r2_hp = modeling1.score(X_train_hp, y_train_hp)\n",
    "print(f\"\\nR2 score for horsepower: {r2_hp:.2f}\")"
   ]
  },
  {
   "cell_type": "markdown",
   "metadata": {},
   "source": [
    "#MINI MODELING 2 (filling NaNs for mpg)"
   ]
  },
  {
   "cell_type": "code",
   "execution_count": 10,
   "metadata": {},
   "outputs": [
    {
     "name": "stdout",
     "output_type": "stream",
     "text": [
      "Missing values after imputation (MPG):\n",
      " 0\n"
     ]
    }
   ],
   "source": [
    "# dropna to train the model\n",
    "training_mpg = df.dropna(subset=['mpg'])\n",
    "\n",
    "# dependent and independent variables - ommit horsepower column because it contains predicted values replacing initial NaNs\n",
    "# Highly correlated features with mpg include origin, therefore we will use the encoded form of origin to feed the model\n",
    "X_train_mpg = training_mpg[['cylinders', 'displayments', 'weight', 'model year', 'origin_1', 'origin_2', 'origin_3']]  \n",
    "y_train_mpg = training_mpg['mpg']  \n",
    "\n",
    "# lrm 2\n",
    "modeling2 = LinearRegression()\n",
    "modeling2.fit(X_train_mpg, y_train_mpg)\n",
    "\n",
    "# let's predict\n",
    "\n",
    "#find the nan values\n",
    "nullvalues_mpg= df[df['mpg'].isnull()]  \n",
    "\n",
    "#prediction based on horsepower, weight, cylinders, model year, displayments\n",
    "X_test_mpg = nullvalues_mpg[['cylinders', 'displayments', 'weight', 'model year', 'origin_1', 'origin_2', 'origin_3']]   \n",
    "df.loc[df['mpg'].isnull(), 'mpg'] = modeling2.predict(X_test_mpg)\n",
    "\n",
    "# final check\n",
    "print(\"Missing values after imputation (MPG):\\n\", df['mpg'].isnull().sum())\n"
   ]
  },
  {
   "cell_type": "code",
   "execution_count": 11,
   "metadata": {},
   "outputs": [
    {
     "name": "stdout",
     "output_type": "stream",
     "text": [
      "Cross-Validation Results:\n",
      "RMSE (Fold-wise): [3.56923229 3.16401514 2.56685036 3.95437034 5.23517184]\n",
      "Mean RMSE: 3.70\n",
      "\n",
      "Min mpg:  9.0\n",
      "Max mpg:  46.6\n",
      "\n",
      "Percentage of RMSE: 9.83%\n",
      "\n",
      "R2 score: 0.82\n"
     ]
    }
   ],
   "source": [
    "#check performance \n",
    "\n",
    "cv_scores = cross_val_score(modeling2, X_train_mpg, y_train_mpg, scoring='neg_mean_squared_error', cv=5)\n",
    "cv_rmse = np.sqrt(-cv_scores)\n",
    "\n",
    "print(\"Cross-Validation Results:\")\n",
    "print(f\"RMSE (Fold-wise): {cv_rmse}\")\n",
    "print(f\"Mean RMSE: {cv_rmse.mean():.2f}\\n\")\n",
    "print('Min mpg: ', df['mpg'].min())\n",
    "print('Max mpg: ', df['mpg'].max())\n",
    "print(f\"\\nPercentage of RMSE: {cv_rmse.mean()/(df['mpg'].max()-df['mpg'].min())*100:.2f}%\")\n",
    "#r2 score\n",
    "print(f\"\\nR2 score: {modeling2.score(X_train_mpg, y_train_mpg):.2f}\")"
   ]
  },
  {
   "cell_type": "code",
   "execution_count": 12,
   "metadata": {},
   "outputs": [
    {
     "data": {
      "image/png": "[encoded data removed]",
      "text/plain": [
       "<Figure size 640x480 with 1 Axes>"
      ]
     },
     "metadata": {},
     "output_type": "display_data"
    }
   ],
   "source": [
    "# Plot mpg vs normal distribution (after nan handling)\n",
    "mpg = df['mpg']\n",
    "\n",
    "# Create the histogram with a trendline\n",
    "sns.histplot(mpg, kde=True, stat=\"density\", linewidth=0)\n",
    "\n",
    "# Fit a normal distribution to the data\n",
    "mu, std = norm.fit(mpg)\n",
    "\n",
    "# Plot the normal distribution line\n",
    "xmin, xmax = plt.xlim()\n",
    "x = np.linspace(xmin, xmax, 100)\n",
    "p = norm.pdf(x, mu, std)\n",
    "plt.plot(x, p, 'k', linewidth=2, label='Normal distribution')\n",
    "\n",
    "# Add labels and legend\n",
    "plt.xlabel('Fuel Consumption (mpg)')\n",
    "plt.ylabel('Density')\n",
    "plt.title('Fuel Consumption and Normal Distribution')\n",
    "plt.legend()\n",
    "plt.savefig(os.path.join(output, 'fueldistrib.png' ))\n",
    "\n",
    "# Show the plot\n",
    "plt.show()"
   ]
  },
  {
   "cell_type": "markdown",
   "metadata": {},
   "source": [
    "### Turn the Regression Problem to a Classification Problem"
   ]
  },
  {
   "cell_type": "markdown",
   "metadata": {},
   "source": [
    "### Divide the classes"
   ]
  },
  {
   "cell_type": "code",
   "execution_count": 13,
   "metadata": {},
   "outputs": [
    {
     "name": "stdout",
     "output_type": "stream",
     "text": [
      "Outliers: []\n"
     ]
    }
   ],
   "source": [
    "# Calculate quartiles\n",
    "q1 = df[\"mpg\"].quantile(0.25)\n",
    "q2 = df[\"mpg\"].quantile(0.50)  # Median\n",
    "q3 = df[\"mpg\"].quantile(0.75)\n",
    "\n",
    "# Calculate IQR (InterQuartile Range)\n",
    "iqr = q3 - q1\n",
    "\n",
    "# Define outlier bounds\n",
    "lower_bound = q1 - 1.5 * iqr\n",
    "upper_bound = q3 + 1.5 * iqr\n",
    "\n",
    "# Identify outliers\n",
    "outliers = df[(df[\"mpg\"] < lower_bound) | (df[\"mpg\"] > upper_bound)]\n",
    "print(f'Outliers: {outliers[\"mpg\"].tolist()}') # No outliers found in the mpg column\n",
    "\n"
   ]
  },
  {
   "cell_type": "code",
   "execution_count": 14,
   "metadata": {},
   "outputs": [
    {
     "name": "stdout",
     "output_type": "stream",
     "text": [
      "mpg_classes\n",
      "2    105\n",
      "0    104\n",
      "1     99\n",
      "3     98\n",
      "Name: count, dtype: int64\n"
     ]
    }
   ],
   "source": [
    "# Define bins and labels\n",
    "bins = [float(\"-inf\"), q1, q2, q3, float(\"inf\")]  # Covers full range\n",
    "labels = [0, 1, 2, 3]  # 0: Low, 1: Medium-Low, 2: Medium-High, 3: High\n",
    "\n",
    "# Convert mpg to classes - we will use df_clean if we remove the outliers\n",
    "df[\"mpg_classes\"] = pd.cut(df[\"mpg\"], bins=bins, labels=labels)\n",
    "\n",
    "# Show class distribution\n",
    "print(df[\"mpg_classes\"].value_counts())"
   ]
  },
  {
   "cell_type": "code",
   "execution_count": 15,
   "metadata": {},
   "outputs": [
    {
     "data": {
      "image/png": "[encoded data removed]",
      "text/plain": [
       "<Figure size 640x480 with 1 Axes>"
      ]
     },
     "metadata": {},
     "output_type": "display_data"
    }
   ],
   "source": [
    "# Get the categories and counts\n",
    "categories = df['mpg_classes'].value_counts().index\n",
    "counts = df['mpg_classes'].value_counts().values  # Use .values to get the count as an array\n",
    "\n",
    "blue_palette = [\"paleturquoise\", \"lightskyblue\", \"cornflowerblue\", \"royalblue\"]\n",
    "\n",
    "# Define colored legend patches\n",
    "low = mpatches.Patch(color=blue_palette[0], label='0: Low mpg')\n",
    "medium_low = mpatches.Patch(color=blue_palette[1], label='1: Medium-Low mpg')\n",
    "medium_high = mpatches.Patch(color=blue_palette[2], label='2: Medium-High mpg')\n",
    "high = mpatches.Patch(color=blue_palette[3], label='3: High mpg')\n",
    "\n",
    "# Plot the bar chart to see if data has been evenly distributed to the four bins\n",
    "plt.bar(categories, counts, width=0.5, color=blue_palette)\n",
    "plt.xlabel('Mpg classes')\n",
    "plt.ylabel('Count')\n",
    "plt.title('Count of Mpg classes')\n",
    "plt.grid(axis='y', linestyle='--', alpha=0.7)\n",
    "plt.legend(handles=[low, medium_low, medium_high, high], loc='lower right')\n",
    "plt.show()"
   ]
  },
  {
   "cell_type": "code",
   "execution_count": 16,
   "metadata": {},
   "outputs": [
    {
     "name": "stdout",
     "output_type": "stream",
     "text": [
      "Curated dataset saved to C:/welead/project/curated_dataset.csv\n"
     ]
    }
   ],
   "source": [
    "#Export the curated dataset\n",
    "if not os.path.exists(output):\n",
    "    os.makedirs(output)\n",
    "\n",
    "output_file = os.path.join(output, 'curated_dataset.csv')\n",
    "df.to_csv(output_file, index=False)\n",
    "print(f\"Curated dataset saved to {output_file}\")"
   ]
  }
 ],
 "metadata": {
  "kernelspec": {
   "display_name": "Python 3",
   "language": "python",
   "name": "python3"
  },
  "language_info": {
   "codemirror_mode": {
    "name": "ipython",
    "version": 3
   },
   "file_extension": ".py",
   "mimetype": "text/x-python",
   "name": "python",
   "nbconvert_exporter": "python",
   "pygments_lexer": "ipython3",
   "version": "3.13.2"
  }
 },
 "nbformat": 4,
 "nbformat_minor": 2
}
